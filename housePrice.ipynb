#1
import pandas as pd

url = "https://raw.githubusercontent.com/selva86/datasets/master/BostonHousing.csv"
data = pd.read_csv(url)
print(data.head())
print(data.shape)
print(data.describe())

#2
print(data.isnull().sum())

import seaborn as sns
import matplotlib.pyplot as plt

sns.set(style="whitegrid")
sns.pairplot(data)
plt.show()

plt.figure(figsize=(12,10))
correlation_matrix=data.corr()
sns.heatmap(correlation_matrix,annot=True,cmap="coolwarm",linewidths=0.5)
plt.title('Correlation matrix')
plt.show()


#3
X=data.drop(columns='medv')
y=data['medv']

from sklearn.model_selection import train_test_split
X_train,X_test, y_train, y_test = train_test_split(X, y, test_size=0.2, random_state=42)

print(f"Training feature shape: {X_train.shape}")
print(f"Testing features shape: {X_test.shape}")
print(f"Training feature shape: {y_train.shape}")
print(f"Testing feature shape: {y_test.shape}")

#4
from sklearn.linear_model import LinearRegression
model=LinearRegression()
model.fit(X_train, y_train)
y_pred=model.predict(X_test)

from sklearn.metrics import mean_squared_error, r2_score
mse=mean_squared_error(y_test,y_pred)
r2=r2_score(y_test,y_pred)

print(f"Mean squared Error: {mse}")
print(f"R^2 Score: {r2}")

#5
plt.figure(figsize=(10,6))
plt.scatter(y_test,y_pred, edgecolors=(0,0,0))
plt.plot([y_test.min(), y_test.max()],[y_test.min(), y_test.max()], 'k--', lw=3)

plt.xlabel('Actual')
plt.ylabel('Predicted')
plt.title('Actual Vs Predicted')
plt.show()

